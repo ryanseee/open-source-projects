{
 "cells": [
  {
   "cell_type": "code",
   "execution_count": 26,
   "id": "e59cbb9a-da3a-4df2-8689-5aaf777a0ca6",
   "metadata": {
    "tags": []
   },
   "outputs": [
    {
     "name": "stdout",
     "output_type": "stream",
     "text": [
      "\n",
      "Available Magic Commands\n",
      "\n",
      "## Sessions Magics\n",
      "%help | Return a list of descriptions and input types for all magic commands. \n",
      "%profile | String | Specify a profile in your aws configuration to use as the credentials provider.\n",
      "%region | String | Specify the AWS region in which to initialize a session | Default from ~/.aws/configure\n",
      "%idle_timeout | Int | The number of minutes of inactivity after which a session will timeout. The default idle timeout value is 2880 minutes (48 hours).\n",
      "%session_id | Returns the session ID for the running session. \n",
      "%session_id_prefix | String | Define a String that will precede all session IDs in the format [session_id_prefix]-[session_id]. If a session ID is not provided, a random UUID will be generated.\n",
      "%status | Returns the status of the current Glue session including its duration, configuration and executing user / role.\n",
      "%list_sessions | Lists all currently running sessions by name and ID.\n",
      "%stop_session | Stops the current session.\n",
      "%glue_version | String | The version of Glue to be used by this session. Currently, the only valid options are 2.0 and 3.0. The default value is 2.0.\n",
      "%streaming | String | Changes the session type to Glue Streaming. \n",
      "%etl | String | Changes the session type to Glue ETL. \n",
      "\n",
      "## Glue Config Magics\n",
      "%%configure | Dictionary | A json-formatted dictionary consisting of all configuration parameters for a session. Each parameter can be specified here or through individual magics.\n",
      "%iam_role | String | Specify an IAM role ARN to execute your session with. | Default from ~/.aws/configure\n",
      "%number_of_workers | int | The number of workers of a defined worker_type that are allocated when a job runs. worker_type must be set too. The default number_of_workers is 5.\n",
      "%worker_type | String | Standard, G.1X, or G.2X. number_of_workers must be set too. The default worker_type is G.1X.\n",
      "%security_config | String | Define a Security Configuration to be used with this session. \n",
      "%connections | List | Specify a comma separated list of connections to use in the session.\n",
      "%additional_python_modules | List | Comma separated list of additional Python modules to include in your cluster (can be from Pypi or S3).\n",
      "%extra_py_files | List | Comma separated list of additional Python files From S3.\n",
      "%extra_jars | List | Comma separated list of additional Jars to include in the cluster.\n",
      "%spark_conf | String | Specify custom spark configurations for your session. E.g. %spark_conf spark.serializer=org.apache.spark.serializer.KryoSerializer\n",
      "\n",
      "## Action Magics\n",
      "%%sql | String | Run SQL code. All lines after the initial %%sql magic will be passed as part of the SQL code. \n",
      "\n"
     ]
    }
   ],
   "source": [
    "%help"
   ]
  },
  {
   "cell_type": "markdown",
   "id": "edf597a9-ed34-4adf-a00a-899b579ebb14",
   "metadata": {},
   "source": [
    "# Configure and Initialize Glue Environment"
   ]
  },
  {
   "cell_type": "code",
   "execution_count": 32,
   "id": "8d732fd3-037f-4618-b878-411ecf9e9837",
   "metadata": {
    "tags": []
   },
   "outputs": [
    {
     "name": "stdout",
     "output_type": "stream",
     "text": [
      "Setting session ID prefix to test003\n",
      "You are already connected to session test003-eeb3945a-1d68-4073-bed9-5e781dd541db. Your change will not reflect in the current session, but it will affect future new sessions. \n",
      "\n",
      "Setting Glue version to: 3.0\n",
      "You are already connected to session test003-eeb3945a-1d68-4073-bed9-5e781dd541db. Your change will not reflect in the current session, but it will affect future new sessions. \n",
      "\n",
      "Previous number of workers: 10\n",
      "Setting new number of workers to: 10\n",
      "You are already connected to session test003-eeb3945a-1d68-4073-bed9-5e781dd541db. Your change will not reflect in the current session, but it will affect future new sessions. \n",
      "\n",
      "Current idle_timeout is 60 minutes.\n",
      "idle_timeout has been set to 60 minutes.\n",
      "You are already connected to session test003-eeb3945a-1d68-4073-bed9-5e781dd541db. Your change will not reflect in the current session, but it will affect future new sessions. \n",
      "\n",
      "Additional python modules to be included:\n",
      "sagemaker\n"
     ]
    }
   ],
   "source": [
    "%session_id_prefix test003\n",
    "%glue_version 3.0\n",
    "%number_of_workers 10\n",
    "%idle_timeout 60\n",
    "%additional_python_modules sagemaker"
   ]
  },
  {
   "cell_type": "code",
   "execution_count": 6,
   "id": "fe1c6213-d2b4-4bdc-8316-01d98f081092",
   "metadata": {
    "tags": []
   },
   "outputs": [
    {
     "name": "stdout",
     "output_type": "stream",
     "text": [
      "3.1.1-amzn-0\n"
     ]
    }
   ],
   "source": [
    "# first liner to initialize environment\n",
    "print(spark.version)"
   ]
  },
  {
   "cell_type": "markdown",
   "id": "a70bf4af-f4af-4d46-9b71-5841bb20c5e9",
   "metadata": {},
   "source": [
    "# Upload data for preprocessing"
   ]
  },
  {
   "cell_type": "code",
   "execution_count": 7,
   "id": "3c23b391-9fde-4fac-be57-65ccfc056607",
   "metadata": {
    "tags": []
   },
   "outputs": [
    {
     "name": "stdout",
     "output_type": "stream",
     "text": [
      "sagemaker-ap-southeast-1-436194663543\n"
     ]
    }
   ],
   "source": [
    "import sagemaker\n",
    "from sagemaker import get_execution_role\n",
    "\n",
    "role = get_execution_role()\n",
    "session = sagemaker.Session()\n",
    "bucket = session.default_bucket()\n",
    "print(bucket)\n",
    "\n",
    "key_prefix = \"test_data\""
   ]
  },
  {
   "cell_type": "code",
   "execution_count": 8,
   "id": "7a5c35dc-a455-4772-99a2-2ec89c33e6ae",
   "metadata": {
    "tags": []
   },
   "outputs": [
    {
     "name": "stdout",
     "output_type": "stream",
     "text": [
      "\n"
     ]
    }
   ],
   "source": [
    "s3_raw_data = f\"s3://{bucket}/raw_data/iris.data\"\n",
    "schema = \"sepal_length FLOAT, sepal_width FLOAT, petal_length FLOAT, petal_width FLOAT, class STRING\" # source data schema"
   ]
  },
  {
   "cell_type": "code",
   "execution_count": 9,
   "id": "7ed7c7f3-46ce-410a-8003-89001b3b62bb",
   "metadata": {
    "tags": []
   },
   "outputs": [
    {
     "name": "stdout",
     "output_type": "stream",
     "text": [
      "\n"
     ]
    }
   ],
   "source": [
    "from pyspark.sql import functions as F\n",
    "from pyspark.sql.types import LongType\n",
    "from pyspark.ml.feature import StringIndexer"
   ]
  },
  {
   "cell_type": "code",
   "execution_count": 10,
   "id": "d756f9cf-9ed8-427a-a795-7741342f9434",
   "metadata": {
    "tags": []
   },
   "outputs": [
    {
     "name": "stdout",
     "output_type": "stream",
     "text": [
      "+------------+-----------+------------+-----------+-----------+\n",
      "|sepal_length|sepal_width|petal_length|petal_width|      class|\n",
      "+------------+-----------+------------+-----------+-----------+\n",
      "|         4.9|        3.0|         1.4|        0.2|Iris-setosa|\n",
      "|         4.7|        3.2|         1.3|        0.2|Iris-setosa|\n",
      "|         4.6|        3.1|         1.5|        0.2|Iris-setosa|\n",
      "|         5.0|        3.6|         1.4|        0.2|Iris-setosa|\n",
      "|         5.4|        3.9|         1.7|        0.4|Iris-setosa|\n",
      "|         4.6|        3.4|         1.4|        0.3|Iris-setosa|\n",
      "|         5.0|        3.4|         1.5|        0.2|Iris-setosa|\n",
      "|         4.4|        2.9|         1.4|        0.2|Iris-setosa|\n",
      "|         4.9|        3.1|         1.5|        0.1|Iris-setosa|\n",
      "|         5.4|        3.7|         1.5|        0.2|Iris-setosa|\n",
      "+------------+-----------+------------+-----------+-----------+\n",
      "only showing top 10 rows\n"
     ]
    }
   ],
   "source": [
    "df = (spark\n",
    "       .read\n",
    "       .schema(schema)\n",
    "       .options(sep=',', header=True, mode=\"FAILFAST\", timestampFormat=\"yyyy-MM-dd HH:mm:ss\")\n",
    "       .csv(s3_raw_data)\n",
    "       )\n",
    "\n",
    "\n",
    "# cache for faster performance\n",
    "df.cache()\n",
    "\n",
    "# print DataFrame\n",
    "df.show(10)"
   ]
  },
  {
   "cell_type": "code",
   "execution_count": 11,
   "id": "f761ab20-9617-4b7c-9ffa-640a9d84e1b7",
   "metadata": {
    "tags": []
   },
   "outputs": [
    {
     "name": "stdout",
     "output_type": "stream",
     "text": [
      "+------------+-----------+------------+-----------+------+\n",
      "|sepal_length|sepal_width|petal_length|petal_width| class|\n",
      "+------------+-----------+------------+-----------+------+\n",
      "|         4.9|        3.0|         1.4|        0.2|setosa|\n",
      "|         4.7|        3.2|         1.3|        0.2|setosa|\n",
      "|         4.6|        3.1|         1.5|        0.2|setosa|\n",
      "|         5.0|        3.6|         1.4|        0.2|setosa|\n",
      "|         5.4|        3.9|         1.7|        0.4|setosa|\n",
      "|         4.6|        3.4|         1.4|        0.3|setosa|\n",
      "|         5.0|        3.4|         1.5|        0.2|setosa|\n",
      "|         4.4|        2.9|         1.4|        0.2|setosa|\n",
      "|         4.9|        3.1|         1.5|        0.1|setosa|\n",
      "|         5.4|        3.7|         1.5|        0.2|setosa|\n",
      "+------------+-----------+------------+-----------+------+\n",
      "only showing top 10 rows\n"
     ]
    }
   ],
   "source": [
    "df = df.withColumn(\"class\", F.regexp_replace(\"class\", \"Iris-\", \"\"))\n",
    "df.show(10)"
   ]
  },
  {
   "cell_type": "code",
   "execution_count": 12,
   "id": "50e511b6-9de8-4ea8-b947-637d8457e7d9",
   "metadata": {
    "tags": []
   },
   "outputs": [
    {
     "name": "stdout",
     "output_type": "stream",
     "text": [
      "+------+------------+-----------+------------+-----------+\n",
      "| class|sepal_length|sepal_width|petal_length|petal_width|\n",
      "+------+------------+-----------+------------+-----------+\n",
      "|setosa|         4.9|        3.0|         1.4|        0.2|\n",
      "|setosa|         4.7|        3.2|         1.3|        0.2|\n",
      "|setosa|         4.6|        3.1|         1.5|        0.2|\n",
      "|setosa|         5.0|        3.6|         1.4|        0.2|\n",
      "|setosa|         5.4|        3.9|         1.7|        0.4|\n",
      "|setosa|         4.6|        3.4|         1.4|        0.3|\n",
      "|setosa|         5.0|        3.4|         1.5|        0.2|\n",
      "|setosa|         4.4|        2.9|         1.4|        0.2|\n",
      "|setosa|         4.9|        3.1|         1.5|        0.1|\n",
      "|setosa|         5.4|        3.7|         1.5|        0.2|\n",
      "+------+------------+-----------+------------+-----------+\n",
      "only showing top 10 rows\n"
     ]
    }
   ],
   "source": [
    "# Rearrange columns for sagemaker xgboost (first column is label)\n",
    "df = df.select(\"class\",\"sepal_length\",\"sepal_width\", \"petal_length\", \"petal_width\")\n",
    "\n",
    "df.show(10)"
   ]
  },
  {
   "cell_type": "code",
   "execution_count": 13,
   "id": "e0f04132-4eef-4145-b54c-da969299c587",
   "metadata": {
    "tags": []
   },
   "outputs": [
    {
     "name": "stdout",
     "output_type": "stream",
     "text": [
      "+-----+------------+-----------+------------+-----------+\n",
      "|class|sepal_length|sepal_width|petal_length|petal_width|\n",
      "+-----+------------+-----------+------------+-----------+\n",
      "|    0|         4.9|        3.0|         1.4|        0.2|\n",
      "|    0|         4.7|        3.2|         1.3|        0.2|\n",
      "|    0|         4.6|        3.1|         1.5|        0.2|\n",
      "|    0|         5.0|        3.6|         1.4|        0.2|\n",
      "|    0|         5.4|        3.9|         1.7|        0.4|\n",
      "|    0|         4.6|        3.4|         1.4|        0.3|\n",
      "|    0|         5.0|        3.4|         1.5|        0.2|\n",
      "|    0|         4.4|        2.9|         1.4|        0.2|\n",
      "|    0|         4.9|        3.1|         1.5|        0.1|\n",
      "|    0|         5.4|        3.7|         1.5|        0.2|\n",
      "+-----+------------+-----------+------------+-----------+\n",
      "only showing top 10 rows\n"
     ]
    }
   ],
   "source": [
    "# UDF for converting labels to indexes\n",
    "def cnvt_species(s):\n",
    "    species = ['setosa', 'versicolor', 'virginica']\n",
    "    return species.index(s)\n",
    "cnvt_species_udf = F.udf(cnvt_species, LongType())\n",
    "\n",
    "df = df.withColumn(\"class\", cnvt_species_udf(F.col(\"class\")))\n",
    "df.show(10)"
   ]
  },
  {
   "cell_type": "code",
   "execution_count": 14,
   "id": "8e83b458-4019-4d41-83bb-4796051b939e",
   "metadata": {
    "tags": []
   },
   "outputs": [
    {
     "name": "stdout",
     "output_type": "stream",
     "text": [
      "121\n",
      "28\n"
     ]
    }
   ],
   "source": [
    "# Split to train/test dataset\n",
    "# train_data, test_data, validation_data = df_indexed.randomSplit([0.6, 0.3, 0.1])\n",
    "train_data, test_data = df.randomSplit([0.8, 0.2])\n",
    "print(train_data.count())\n",
    "print(test_data.count())"
   ]
  },
  {
   "cell_type": "code",
   "execution_count": 15,
   "id": "cebafc8a-e4c6-4f9a-96e7-fe828f354c57",
   "metadata": {},
   "outputs": [
    {
     "name": "stdout",
     "output_type": "stream",
     "text": [
      "\n"
     ]
    }
   ],
   "source": [
    "train_data.write.csv(f\"s3://{bucket}/output_data/train/\", mode=\"overwrite\")\n",
    "test_data.write.csv(f\"s3://{bucket}/output_data/test/\", mode=\"overwrite\")"
   ]
  },
  {
   "cell_type": "markdown",
   "id": "bfa534ec-7ad7-4b64-859a-8d020eae65ea",
   "metadata": {},
   "source": [
    "# Model training"
   ]
  },
  {
   "cell_type": "code",
   "execution_count": 16,
   "id": "4c2ea20b-3e13-45f6-8ddb-f0fe1357951d",
   "metadata": {
    "tags": []
   },
   "outputs": [
    {
     "name": "stdout",
     "output_type": "stream",
     "text": [
      "\n"
     ]
    }
   ],
   "source": [
    "from sagemaker import image_uris\n",
    "from sagemaker.inputs import TrainingInput\n",
    "from sagemaker.serializers import CSVSerializer\n",
    "from sagemaker.deserializers import StringDeserializer, JSONDeserializer\n",
    "\n",
    "image_uri = image_uris.retrieve(\"xgboost\", session.boto_region_name, \"latest\")\n",
    "s3_output_path = f\"s3://{bucket}/{key_prefix}/output\""
   ]
  },
  {
   "cell_type": "code",
   "execution_count": 17,
   "id": "971e338d-c44f-4bdb-b5b0-c1bb582eabf4",
   "metadata": {
    "tags": []
   },
   "outputs": [
    {
     "name": "stdout",
     "output_type": "stream",
     "text": [
      "\n"
     ]
    }
   ],
   "source": [
    "# initialize hyperparameters\n",
    "hyperparameters = {\n",
    "    \"max_depth\":\"5\",\n",
    "    \"eta\":\"0.2\",\n",
    "    \"gamma\":\"4\",\n",
    "    \"min_child_weight\":\"6\",\n",
    "    \"subsample\":\"0.7\",\n",
    "    \"objective\":\"reg:linear\",\n",
    "    \"num_round\":\"50\"\n",
    "}"
   ]
  },
  {
   "cell_type": "code",
   "execution_count": 18,
   "id": "8a09925f-d6f3-41c6-837a-71962ac1e5b8",
   "metadata": {
    "tags": []
   },
   "outputs": [
    {
     "name": "stdout",
     "output_type": "stream",
     "text": [
      "\n"
     ]
    }
   ],
   "source": [
    "# construct a SageMaker estimator that calls the xgboost-container\n",
    "estimator = sagemaker.estimator.Estimator(\n",
    "    image_uri=image_uri,\n",
    "    hyperparameters=hyperparameters,\n",
    "    role=role,\n",
    "    instance_count=1, \n",
    "    instance_type='ml.m5.2xlarge', \n",
    "    volume_size=5, # 5 GB \n",
    "    output_path=s3_output_path\n",
    ")"
   ]
  },
  {
   "cell_type": "code",
   "execution_count": 19,
   "id": "58b69a16-6fda-41ab-be19-db4349be1005",
   "metadata": {
    "tags": []
   },
   "outputs": [
    {
     "name": "stdout",
     "output_type": "stream",
     "text": [
      "2023-05-18 18:02:43 Starting - Starting the training job...\n",
      "2023-05-18 18:02:58 Starting - Preparing the instances for training......\n",
      "2023-05-18 18:04:11 Downloading - Downloading input data\n",
      "2023-05-18 18:04:11 Training - Downloading the training image...\n",
      "2023-05-18 18:04:21 Training - Training image download completed. Training in progress..Arguments: train\n",
      "[2023-05-18:18:04:41:INFO] Running standalone xgboost training.\n",
      "[2023-05-18:18:04:41:INFO] Path /opt/ml/input/data/validation does not exist!\n",
      "[2023-05-18:18:04:41:INFO] File size need to be processed in the node: 0.0mb. Available memory size in the node: 23997.21mb\n",
      "[2023-05-18:18:04:41:INFO] Determined delimiter of CSV input is ','\n",
      "[18:04:41] S3DistributionType set as FullyReplicated\n",
      "[18:04:41] 121x4 matrix with 484 entries loaded from /opt/ml/input/data/train?format=csv&label_column=0&delimiter=,\n",
      "[18:04:41] src/tree/updater_prune.cc:74: tree pruning end, 1 roots, 4 extra nodes, 0 pruned nodes, max_depth=2\n",
      "[0]#011train-rmse:0.801307\n",
      "[18:04:41] src/tree/updater_prune.cc:74: tree pruning end, 1 roots, 4 extra nodes, 2 pruned nodes, max_depth=2\n",
      "[1]#011train-rmse:0.653269\n",
      "[18:04:41] src/tree/updater_prune.cc:74: tree pruning end, 1 roots, 4 extra nodes, 0 pruned nodes, max_depth=2\n",
      "[2]#011train-rmse:0.535578\n",
      "[18:04:41] src/tree/updater_prune.cc:74: tree pruning end, 1 roots, 2 extra nodes, 6 pruned nodes, max_depth=1\n",
      "[3]#011train-rmse:0.457966\n",
      "[18:04:41] src/tree/updater_prune.cc:74: tree pruning end, 1 roots, 2 extra nodes, 6 pruned nodes, max_depth=1\n",
      "[4]#011train-rmse:0.396134\n",
      "[18:04:41] src/tree/updater_prune.cc:74: tree pruning end, 1 roots, 2 extra nodes, 8 pruned nodes, max_depth=1\n",
      "[5]#011train-rmse:0.350578\n",
      "[18:04:41] src/tree/updater_prune.cc:74: tree pruning end, 1 roots, 2 extra nodes, 8 pruned nodes, max_depth=1\n",
      "[6]#011train-rmse:0.304814\n",
      "[18:04:41] src/tree/updater_prune.cc:74: tree pruning end, 1 roots, 0 extra nodes, 10 pruned nodes, max_depth=0\n",
      "[7]#011train-rmse:0.298846\n",
      "[18:04:41] src/tree/updater_prune.cc:74: tree pruning end, 1 roots, 0 extra nodes, 8 pruned nodes, max_depth=0\n",
      "[8]#011train-rmse:0.29316\n",
      "[18:04:41] src/tree/updater_prune.cc:74: tree pruning end, 1 roots, 0 extra nodes, 8 pruned nodes, max_depth=0\n",
      "[9]#011train-rmse:0.29009\n",
      "[18:04:41] src/tree/updater_prune.cc:74: tree pruning end, 1 roots, 2 extra nodes, 6 pruned nodes, max_depth=1\n",
      "[10]#011train-rmse:0.260336\n",
      "[18:04:41] src/tree/updater_prune.cc:74: tree pruning end, 1 roots, 0 extra nodes, 12 pruned nodes, max_depth=0\n",
      "[11]#011train-rmse:0.257701\n",
      "[18:04:41] src/tree/updater_prune.cc:74: tree pruning end, 1 roots, 0 extra nodes, 10 pruned nodes, max_depth=0\n",
      "[12]#011train-rmse:0.256413\n",
      "[18:04:41] src/tree/updater_prune.cc:74: tree pruning end, 1 roots, 0 extra nodes, 8 pruned nodes, max_depth=0\n",
      "[13]#011train-rmse:0.255882\n",
      "[18:04:41] src/tree/updater_prune.cc:74: tree pruning end, 1 roots, 0 extra nodes, 10 pruned nodes, max_depth=0\n",
      "[14]#011train-rmse:0.255771\n",
      "[18:04:41] src/tree/updater_prune.cc:74: tree pruning end, 1 roots, 0 extra nodes, 8 pruned nodes, max_depth=0\n",
      "[15]#011train-rmse:0.255682\n",
      "[18:04:41] src/tree/updater_prune.cc:74: tree pruning end, 1 roots, 0 extra nodes, 10 pruned nodes, max_depth=0\n",
      "[16]#011train-rmse:0.255511\n",
      "[18:04:41] src/tree/updater_prune.cc:74: tree pruning end, 1 roots, 0 extra nodes, 12 pruned nodes, max_depth=0\n",
      "[18:04:41] src/tree/updater_prune.cc:74: tree pruning end, 1 roots, 0 extra nodes, 8 pruned nodes, max_depth=0\n",
      "[18:04:41] src/tree/updater_prune.cc:74: tree pruning end, 1 roots, 0 extra nodes, 12 pruned nodes, max_depth=0\n",
      "[18:04:41] src/tree/updater_prune.cc:74: tree pruning end, 1 roots, 0 extra nodes, 8 pruned nodes, max_depth=0\n",
      "[18:04:41] src/tree/updater_prune.cc:74: tree pruning end, 1 roots, 0 extra nodes, 8 pruned nodes, max_depth=0\n",
      "[17]#011train-rmse:0.255616\n",
      "[18]#011train-rmse:0.255751\n",
      "[19]#011train-rmse:0.255818\n",
      "[20]#011train-rmse:0.255504\n",
      "[21]#011train-rmse:0.255488\n",
      "[18:04:41] src/tree/updater_prune.cc:74: tree pruning end, 1 roots, 0 extra nodes, 12 pruned nodes, max_depth=0\n",
      "[22]#011train-rmse:0.255398\n",
      "[18:04:41] src/tree/updater_prune.cc:74: tree pruning end, 1 roots, 0 extra nodes, 12 pruned nodes, max_depth=0\n",
      "[23]#011train-rmse:0.25543\n",
      "[18:04:41] src/tree/updater_prune.cc:74: tree pruning end, 1 roots, 0 extra nodes, 10 pruned nodes, max_depth=0\n",
      "[24]#011train-rmse:0.25534\n",
      "[18:04:41] src/tree/updater_prune.cc:74: tree pruning end, 1 roots, 0 extra nodes, 10 pruned nodes, max_depth=0\n",
      "[25]#011train-rmse:0.255312\n",
      "[18:04:41] src/tree/updater_prune.cc:74: tree pruning end, 1 roots, 0 extra nodes, 10 pruned nodes, max_depth=0\n",
      "[26]#011train-rmse:0.255284\n",
      "[18:04:41] src/tree/updater_prune.cc:74: tree pruning end, 1 roots, 0 extra nodes, 10 pruned nodes, max_depth=0\n",
      "[27]#011train-rmse:0.255288\n",
      "[18:04:41] src/tree/updater_prune.cc:74: tree pruning end, 1 roots, 0 extra nodes, 8 pruned nodes, max_depth=0\n",
      "[28]#011train-rmse:0.255284\n",
      "[18:04:41] src/tree/updater_prune.cc:74: tree pruning end, 1 roots, 0 extra nodes, 10 pruned nodes, max_depth=0\n",
      "[29]#011train-rmse:0.255282\n",
      "[18:04:41] src/tree/updater_prune.cc:74: tree pruning end, 1 roots, 0 extra nodes, 10 pruned nodes, max_depth=0\n",
      "[30]#011train-rmse:0.255311\n",
      "[18:04:41] src/tree/updater_prune.cc:74: tree pruning end, 1 roots, 0 extra nodes, 10 pruned nodes, max_depth=0\n",
      "[31]#011train-rmse:0.255285\n",
      "[18:04:41] src/tree/updater_prune.cc:74: tree pruning end, 1 roots, 0 extra nodes, 10 pruned nodes, max_depth=0\n",
      "[32]#011train-rmse:0.255295\n",
      "[18:04:41] src/tree/updater_prune.cc:74: tree pruning end, 1 roots, 0 extra nodes, 8 pruned nodes, max_depth=0\n",
      "[33]#011train-rmse:0.255305\n",
      "[18:04:41] src/tree/updater_prune.cc:74: tree pruning end, 1 roots, 0 extra nodes, 8 pruned nodes, max_depth=0\n",
      "[34]#011train-rmse:0.255318\n",
      "[18:04:41] src/tree/updater_prune.cc:74: tree pruning end, 1 roots, 0 extra nodes, 10 pruned nodes, max_depth=0\n",
      "[35]#011train-rmse:0.255313\n",
      "[18:04:41] src/tree/updater_prune.cc:74: tree pruning end, 1 roots, 0 extra nodes, 8 pruned nodes, max_depth=0\n",
      "[36]#011train-rmse:0.255354\n",
      "[18:04:41] src/tree/updater_prune.cc:74: tree pruning end, 1 roots, 0 extra nodes, 10 pruned nodes, max_depth=0\n",
      "[37]#011train-rmse:0.255401\n",
      "[18:04:41] src/tree/updater_prune.cc:74: tree pruning end, 1 roots, 0 extra nodes, 12 pruned nodes, max_depth=0\n",
      "[38]#011train-rmse:0.255317\n",
      "[18:04:41] src/tree/updater_prune.cc:74: tree pruning end, 1 roots, 0 extra nodes, 12 pruned nodes, max_depth=0\n",
      "[39]#011train-rmse:0.25531\n",
      "[18:04:41] src/tree/updater_prune.cc:74: tree pruning end, 1 roots, 0 extra nodes, 10 pruned nodes, max_depth=0\n",
      "[40]#011train-rmse:0.255282\n",
      "[18:04:41] src/tree/updater_prune.cc:74: tree pruning end, 1 roots, 0 extra nodes, 10 pruned nodes, max_depth=0\n",
      "[41]#011train-rmse:0.25528\n",
      "[18:04:41] src/tree/updater_prune.cc:74: tree pruning end, 1 roots, 0 extra nodes, 10 pruned nodes, max_depth=0\n",
      "[42]#011train-rmse:0.255336\n",
      "[18:04:41] src/tree/updater_prune.cc:74: tree pruning end, 1 roots, 0 extra nodes, 8 pruned nodes, max_depth=0\n",
      "[43]#011train-rmse:0.25528\n",
      "[18:04:41] src/tree/updater_prune.cc:74: tree pruning end, 1 roots, 0 extra nodes, 10 pruned nodes, max_depth=0\n",
      "[44]#011train-rmse:0.255331\n",
      "[18:04:41] src/tree/updater_prune.cc:74: tree pruning end, 1 roots, 0 extra nodes, 8 pruned nodes, max_depth=0\n",
      "[45]#011train-rmse:0.25532\n",
      "[18:04:41] src/tree/updater_prune.cc:74: tree pruning end, 1 roots, 0 extra nodes, 14 pruned nodes, max_depth=0\n",
      "[46]#011train-rmse:0.255371\n",
      "[18:04:41] src/tree/updater_prune.cc:74: tree pruning end, 1 roots, 0 extra nodes, 8 pruned nodes, max_depth=0\n",
      "[47]#011train-rmse:0.255357\n",
      "[18:04:41] src/tree/updater_prune.cc:74: tree pruning end, 1 roots, 0 extra nodes, 12 pruned nodes, max_depth=0\n",
      "[48]#011train-rmse:0.255285\n",
      "[18:04:41] src/tree/updater_prune.cc:74: tree pruning end, 1 roots, 0 extra nodes, 10 pruned nodes, max_depth=0\n",
      "[49]#011train-rmse:0.255282\n",
      "\n",
      "2023-05-18 18:04:58 Uploading - Uploading generated training model\n",
      "2023-05-18 18:04:58 Completed - Training job completed\n",
      "Training seconds: 72\n",
      "Billable seconds: 72\n"
     ]
    }
   ],
   "source": [
    "# model training\n",
    "content_type = \"text/csv\"\n",
    "\n",
    "train_input = TrainingInput(\"s3://{}/output_data/train/\".format(bucket), content_type=content_type)\n",
    "\n",
    "estimator.fit({\"train\": train_input})"
   ]
  },
  {
   "cell_type": "code",
   "execution_count": 20,
   "id": "8080e4af-a29b-4f8c-a9fd-327a40fc3395",
   "metadata": {},
   "outputs": [
    {
     "name": "stdout",
     "output_type": "stream",
     "text": [
      "---!\n"
     ]
    }
   ],
   "source": [
    "# model predictor\n",
    "predictor = estimator.deploy(\n",
    "    initial_instance_count=1,\n",
    "    instance_type=\"ml.m5.xlarge\",\n",
    "    serializer=CSVSerializer()\n",
    ")"
   ]
  },
  {
   "cell_type": "code",
   "execution_count": 21,
   "id": "5d75617e-654a-4aea-b16b-5a376854dd69",
   "metadata": {
    "tags": []
   },
   "outputs": [
    {
     "name": "stdout",
     "output_type": "stream",
     "text": [
      "Setosa\n",
      "b'0.24620097875595093'\n",
      "Versicolor\n",
      "b'1.00162935256958'\n",
      "Virginica\n",
      "b'1.7745649814605713'\n"
     ]
    }
   ],
   "source": [
    "print(\"Setosa\")\n",
    "print(predictor.predict([4.9,3.0,1.4,0.2]))\n",
    "print(\"Versicolor\")\n",
    "print(predictor.predict([5.7,2.8,4.1,1.3]))\n",
    "print(\"Virginica\")\n",
    "print(predictor.predict([5.9,3.0,5.1,1.8]))"
   ]
  },
  {
   "cell_type": "markdown",
   "id": "a64cb54c-cac3-4a39-af08-8c3558fafc43",
   "metadata": {},
   "source": [
    "## Validate the model for use"
   ]
  },
  {
   "cell_type": "code",
   "execution_count": 22,
   "id": "a5f79600-ce68-4240-bdb1-94313b41a670",
   "metadata": {
    "tags": []
   },
   "outputs": [
    {
     "name": "stdout",
     "output_type": "stream",
     "text": [
      "[0.24620098 0.24620098 0.24620098 0.24620098 0.24620098 0.24620098\n",
      " 0.24620098 0.24620098 0.24620098 0.24620098 1.00162935 1.00162935\n",
      " 1.00162935 1.00162935 1.12922454 1.00162935 1.00162935 1.00162935\n",
      " 1.00162935 1.00162935 1.00162935 1.77456498 1.77456498 1.77456498\n",
      " 1.77456498 1.77456498 1.77456498 1.77456498]\n"
     ]
    }
   ],
   "source": [
    "import numpy as np\n",
    "\n",
    "# retrieve and convert test data\n",
    "# can import from S3 as DF and convert to array but using test_data directly for now\n",
    "def predict(data):\n",
    "    rows=len(data)\n",
    "    split_array = np.array_split(data, int(data.shape[0] / float(rows)+1))\n",
    "    \n",
    "    predictions = ''\n",
    "\n",
    "    for array in split_array:\n",
    "        predictions = ','.join([predictions, predictor.predict(array).decode('utf-8')])\n",
    "        \n",
    "    return np.fromstring(predictions[1:], sep=',')\n",
    "\n",
    "predictions = predict(test_data.toPandas().to_numpy()[:, 1:])\n",
    "\n",
    "print(predictions)"
   ]
  },
  {
   "cell_type": "code",
   "execution_count": 49,
   "id": "c67b958f-298c-4b0a-ae04-929942ab1210",
   "metadata": {
    "tags": []
   },
   "outputs": [
    {
     "name": "stdout",
     "output_type": "stream",
     "text": [
      "+---------+------------+-----------+------------+-----------+-----+-------------------+\n",
      "|row_index|sepal_length|sepal_width|petal_length|petal_width|class|         prediction|\n",
      "+---------+------------+-----------+------------+-----------+-----+-------------------+\n",
      "|        1|         4.5|        2.3|         1.3|        0.3|    0|0.24620097875595093|\n",
      "|        2|         4.6|        3.4|         1.4|        0.3|    0|0.24620097875595093|\n",
      "|        3|         4.7|        3.2|         1.6|        0.2|    0|0.24620097875595093|\n",
      "|        4|         4.9|        3.0|         1.4|        0.2|    0|0.24620097875595093|\n",
      "|        5|         4.9|        3.1|         1.5|        0.1|    0|0.24620097875595093|\n",
      "|        6|         5.0|        3.5|         1.3|        0.3|    0|0.24620097875595093|\n",
      "|        7|         5.0|        3.5|         1.6|        0.6|    0|0.24620097875595093|\n",
      "|        8|         5.1|        3.5|         1.4|        0.3|    0|0.24620097875595093|\n",
      "|        9|         5.2|        3.4|         1.4|        0.2|    0|0.24620097875595093|\n",
      "|       10|         5.4|        3.9|         1.3|        0.4|    0|0.24620097875595093|\n",
      "|       11|         5.0|        2.3|         3.3|        1.0|    1|   1.00162935256958|\n",
      "|       12|         5.2|        2.7|         3.9|        1.4|    1|   1.00162935256958|\n",
      "|       13|         5.6|        2.7|         4.2|        1.3|    1|   1.00162935256958|\n",
      "|       14|         6.0|        2.2|         4.0|        1.0|    1|   1.00162935256958|\n",
      "|       15|         6.0|        3.4|         4.5|        1.6|    1| 1.1292245388031006|\n",
      "|       16|         6.2|        2.2|         4.5|        1.5|    1|   1.00162935256958|\n",
      "|       17|         6.3|        2.3|         4.4|        1.3|    1|   1.00162935256958|\n",
      "|       18|         6.4|        2.9|         4.3|        1.3|    1|   1.00162935256958|\n",
      "|       19|         6.4|        3.2|         4.5|        1.5|    1|   1.00162935256958|\n",
      "|       20|         6.6|        3.0|         4.4|        1.4|    1|   1.00162935256958|\n",
      "+---------+------------+-----------+------------+-----------+-----+-------------------+\n",
      "only showing top 20 rows\n"
     ]
    }
   ],
   "source": [
    "from pyspark.sql.window import Window\n",
    "\n",
    "predictions_df = spark.sparkContext.parallelize(predictions).map(lambda x: (float(x), )).toDF([\"prediction\"])\n",
    "\n",
    "# since there is no common column between these two dataframes add row_index so that it can be joined\n",
    "test_data = test_data.withColumn('row_index', F.row_number().over(Window.orderBy(F.monotonically_increasing_id())))\n",
    "predictions_df = predictions_df.withColumn('row_index', F.row_number().over(Window.orderBy(F.monotonically_increasing_id())))\n",
    "\n",
    "predicted_data = test_data.join(predictions_df, test_data.row_index == predictions_df.row_index, 'inner').drop(predictions_df.row_index)\n",
    "predicted_data = predicted_data.select(\"row_index\",\"sepal_length\",\"sepal_width\", \"petal_length\", \"petal_width\", \"class\", \"prediction\")\n",
    "\n",
    "predicted_data.show()\n",
    "\n",
    "\n",
    "# print(\"Virginica\")\n",
    "# print(predictor.predict([5.9,3.0,5.1,1.8]))"
   ]
  },
  {
   "cell_type": "code",
   "execution_count": 50,
   "id": "4b3e1b61-9de1-4866-8527-a0f67b7e49dd",
   "metadata": {
    "tags": []
   },
   "outputs": [
    {
     "name": "stdout",
     "output_type": "stream",
     "text": [
      "\n"
     ]
    }
   ],
   "source": [
    "predictor.delete_endpoint()"
   ]
  },
  {
   "cell_type": "code",
   "execution_count": 37,
   "id": "129b7950-39ed-4731-89f6-44c2c4274dd1",
   "metadata": {
    "tags": []
   },
   "outputs": [
    {
     "name": "stdout",
     "output_type": "stream",
     "text": [
      "Stopping session: test003-eeb3945a-1d68-4073-bed9-5e781dd541db\n",
      "Stopped session.\n"
     ]
    }
   ],
   "source": [
    "%stop_session"
   ]
  },
  {
   "cell_type": "code",
   "execution_count": null,
   "id": "e75e39b7-2613-47c1-9796-06b6207aef0b",
   "metadata": {},
   "outputs": [],
   "source": []
  }
 ],
 "metadata": {
  "availableInstances": [
   {
    "_defaultOrder": 0,
    "_isFastLaunch": true,
    "category": "General purpose",
    "gpuNum": 0,
    "hideHardwareSpecs": false,
    "memoryGiB": 4,
    "name": "ml.t3.medium",
    "vcpuNum": 2
   },
   {
    "_defaultOrder": 1,
    "_isFastLaunch": false,
    "category": "General purpose",
    "gpuNum": 0,
    "hideHardwareSpecs": false,
    "memoryGiB": 8,
    "name": "ml.t3.large",
    "vcpuNum": 2
   },
   {
    "_defaultOrder": 2,
    "_isFastLaunch": false,
    "category": "General purpose",
    "gpuNum": 0,
    "hideHardwareSpecs": false,
    "memoryGiB": 16,
    "name": "ml.t3.xlarge",
    "vcpuNum": 4
   },
   {
    "_defaultOrder": 3,
    "_isFastLaunch": false,
    "category": "General purpose",
    "gpuNum": 0,
    "hideHardwareSpecs": false,
    "memoryGiB": 32,
    "name": "ml.t3.2xlarge",
    "vcpuNum": 8
   },
   {
    "_defaultOrder": 4,
    "_isFastLaunch": true,
    "category": "General purpose",
    "gpuNum": 0,
    "hideHardwareSpecs": false,
    "memoryGiB": 8,
    "name": "ml.m5.large",
    "vcpuNum": 2
   },
   {
    "_defaultOrder": 5,
    "_isFastLaunch": false,
    "category": "General purpose",
    "gpuNum": 0,
    "hideHardwareSpecs": false,
    "memoryGiB": 16,
    "name": "ml.m5.xlarge",
    "vcpuNum": 4
   },
   {
    "_defaultOrder": 6,
    "_isFastLaunch": false,
    "category": "General purpose",
    "gpuNum": 0,
    "hideHardwareSpecs": false,
    "memoryGiB": 32,
    "name": "ml.m5.2xlarge",
    "vcpuNum": 8
   },
   {
    "_defaultOrder": 7,
    "_isFastLaunch": false,
    "category": "General purpose",
    "gpuNum": 0,
    "hideHardwareSpecs": false,
    "memoryGiB": 64,
    "name": "ml.m5.4xlarge",
    "vcpuNum": 16
   },
   {
    "_defaultOrder": 8,
    "_isFastLaunch": false,
    "category": "General purpose",
    "gpuNum": 0,
    "hideHardwareSpecs": false,
    "memoryGiB": 128,
    "name": "ml.m5.8xlarge",
    "vcpuNum": 32
   },
   {
    "_defaultOrder": 9,
    "_isFastLaunch": false,
    "category": "General purpose",
    "gpuNum": 0,
    "hideHardwareSpecs": false,
    "memoryGiB": 192,
    "name": "ml.m5.12xlarge",
    "vcpuNum": 48
   },
   {
    "_defaultOrder": 10,
    "_isFastLaunch": false,
    "category": "General purpose",
    "gpuNum": 0,
    "hideHardwareSpecs": false,
    "memoryGiB": 256,
    "name": "ml.m5.16xlarge",
    "vcpuNum": 64
   },
   {
    "_defaultOrder": 11,
    "_isFastLaunch": false,
    "category": "General purpose",
    "gpuNum": 0,
    "hideHardwareSpecs": false,
    "memoryGiB": 384,
    "name": "ml.m5.24xlarge",
    "vcpuNum": 96
   },
   {
    "_defaultOrder": 12,
    "_isFastLaunch": false,
    "category": "General purpose",
    "gpuNum": 0,
    "hideHardwareSpecs": false,
    "memoryGiB": 8,
    "name": "ml.m5d.large",
    "vcpuNum": 2
   },
   {
    "_defaultOrder": 13,
    "_isFastLaunch": false,
    "category": "General purpose",
    "gpuNum": 0,
    "hideHardwareSpecs": false,
    "memoryGiB": 16,
    "name": "ml.m5d.xlarge",
    "vcpuNum": 4
   },
   {
    "_defaultOrder": 14,
    "_isFastLaunch": false,
    "category": "General purpose",
    "gpuNum": 0,
    "hideHardwareSpecs": false,
    "memoryGiB": 32,
    "name": "ml.m5d.2xlarge",
    "vcpuNum": 8
   },
   {
    "_defaultOrder": 15,
    "_isFastLaunch": false,
    "category": "General purpose",
    "gpuNum": 0,
    "hideHardwareSpecs": false,
    "memoryGiB": 64,
    "name": "ml.m5d.4xlarge",
    "vcpuNum": 16
   },
   {
    "_defaultOrder": 16,
    "_isFastLaunch": false,
    "category": "General purpose",
    "gpuNum": 0,
    "hideHardwareSpecs": false,
    "memoryGiB": 128,
    "name": "ml.m5d.8xlarge",
    "vcpuNum": 32
   },
   {
    "_defaultOrder": 17,
    "_isFastLaunch": false,
    "category": "General purpose",
    "gpuNum": 0,
    "hideHardwareSpecs": false,
    "memoryGiB": 192,
    "name": "ml.m5d.12xlarge",
    "vcpuNum": 48
   },
   {
    "_defaultOrder": 18,
    "_isFastLaunch": false,
    "category": "General purpose",
    "gpuNum": 0,
    "hideHardwareSpecs": false,
    "memoryGiB": 256,
    "name": "ml.m5d.16xlarge",
    "vcpuNum": 64
   },
   {
    "_defaultOrder": 19,
    "_isFastLaunch": false,
    "category": "General purpose",
    "gpuNum": 0,
    "hideHardwareSpecs": false,
    "memoryGiB": 384,
    "name": "ml.m5d.24xlarge",
    "vcpuNum": 96
   },
   {
    "_defaultOrder": 20,
    "_isFastLaunch": false,
    "category": "General purpose",
    "gpuNum": 0,
    "hideHardwareSpecs": true,
    "memoryGiB": 0,
    "name": "ml.geospatial.interactive",
    "supportedImageNames": [
     "sagemaker-geospatial-v1-0"
    ],
    "vcpuNum": 0
   },
   {
    "_defaultOrder": 21,
    "_isFastLaunch": true,
    "category": "Compute optimized",
    "gpuNum": 0,
    "hideHardwareSpecs": false,
    "memoryGiB": 4,
    "name": "ml.c5.large",
    "vcpuNum": 2
   },
   {
    "_defaultOrder": 22,
    "_isFastLaunch": false,
    "category": "Compute optimized",
    "gpuNum": 0,
    "hideHardwareSpecs": false,
    "memoryGiB": 8,
    "name": "ml.c5.xlarge",
    "vcpuNum": 4
   },
   {
    "_defaultOrder": 23,
    "_isFastLaunch": false,
    "category": "Compute optimized",
    "gpuNum": 0,
    "hideHardwareSpecs": false,
    "memoryGiB": 16,
    "name": "ml.c5.2xlarge",
    "vcpuNum": 8
   },
   {
    "_defaultOrder": 24,
    "_isFastLaunch": false,
    "category": "Compute optimized",
    "gpuNum": 0,
    "hideHardwareSpecs": false,
    "memoryGiB": 32,
    "name": "ml.c5.4xlarge",
    "vcpuNum": 16
   },
   {
    "_defaultOrder": 25,
    "_isFastLaunch": false,
    "category": "Compute optimized",
    "gpuNum": 0,
    "hideHardwareSpecs": false,
    "memoryGiB": 72,
    "name": "ml.c5.9xlarge",
    "vcpuNum": 36
   },
   {
    "_defaultOrder": 26,
    "_isFastLaunch": false,
    "category": "Compute optimized",
    "gpuNum": 0,
    "hideHardwareSpecs": false,
    "memoryGiB": 96,
    "name": "ml.c5.12xlarge",
    "vcpuNum": 48
   },
   {
    "_defaultOrder": 27,
    "_isFastLaunch": false,
    "category": "Compute optimized",
    "gpuNum": 0,
    "hideHardwareSpecs": false,
    "memoryGiB": 144,
    "name": "ml.c5.18xlarge",
    "vcpuNum": 72
   },
   {
    "_defaultOrder": 28,
    "_isFastLaunch": false,
    "category": "Compute optimized",
    "gpuNum": 0,
    "hideHardwareSpecs": false,
    "memoryGiB": 192,
    "name": "ml.c5.24xlarge",
    "vcpuNum": 96
   },
   {
    "_defaultOrder": 29,
    "_isFastLaunch": true,
    "category": "Accelerated computing",
    "gpuNum": 1,
    "hideHardwareSpecs": false,
    "memoryGiB": 16,
    "name": "ml.g4dn.xlarge",
    "vcpuNum": 4
   },
   {
    "_defaultOrder": 30,
    "_isFastLaunch": false,
    "category": "Accelerated computing",
    "gpuNum": 1,
    "hideHardwareSpecs": false,
    "memoryGiB": 32,
    "name": "ml.g4dn.2xlarge",
    "vcpuNum": 8
   },
   {
    "_defaultOrder": 31,
    "_isFastLaunch": false,
    "category": "Accelerated computing",
    "gpuNum": 1,
    "hideHardwareSpecs": false,
    "memoryGiB": 64,
    "name": "ml.g4dn.4xlarge",
    "vcpuNum": 16
   },
   {
    "_defaultOrder": 32,
    "_isFastLaunch": false,
    "category": "Accelerated computing",
    "gpuNum": 1,
    "hideHardwareSpecs": false,
    "memoryGiB": 128,
    "name": "ml.g4dn.8xlarge",
    "vcpuNum": 32
   },
   {
    "_defaultOrder": 33,
    "_isFastLaunch": false,
    "category": "Accelerated computing",
    "gpuNum": 4,
    "hideHardwareSpecs": false,
    "memoryGiB": 192,
    "name": "ml.g4dn.12xlarge",
    "vcpuNum": 48
   },
   {
    "_defaultOrder": 34,
    "_isFastLaunch": false,
    "category": "Accelerated computing",
    "gpuNum": 1,
    "hideHardwareSpecs": false,
    "memoryGiB": 256,
    "name": "ml.g4dn.16xlarge",
    "vcpuNum": 64
   },
   {
    "_defaultOrder": 35,
    "_isFastLaunch": false,
    "category": "Accelerated computing",
    "gpuNum": 1,
    "hideHardwareSpecs": false,
    "memoryGiB": 61,
    "name": "ml.p3.2xlarge",
    "vcpuNum": 8
   },
   {
    "_defaultOrder": 36,
    "_isFastLaunch": false,
    "category": "Accelerated computing",
    "gpuNum": 4,
    "hideHardwareSpecs": false,
    "memoryGiB": 244,
    "name": "ml.p3.8xlarge",
    "vcpuNum": 32
   },
   {
    "_defaultOrder": 37,
    "_isFastLaunch": false,
    "category": "Accelerated computing",
    "gpuNum": 8,
    "hideHardwareSpecs": false,
    "memoryGiB": 488,
    "name": "ml.p3.16xlarge",
    "vcpuNum": 64
   },
   {
    "_defaultOrder": 38,
    "_isFastLaunch": false,
    "category": "Accelerated computing",
    "gpuNum": 8,
    "hideHardwareSpecs": false,
    "memoryGiB": 768,
    "name": "ml.p3dn.24xlarge",
    "vcpuNum": 96
   },
   {
    "_defaultOrder": 39,
    "_isFastLaunch": false,
    "category": "Memory Optimized",
    "gpuNum": 0,
    "hideHardwareSpecs": false,
    "memoryGiB": 16,
    "name": "ml.r5.large",
    "vcpuNum": 2
   },
   {
    "_defaultOrder": 40,
    "_isFastLaunch": false,
    "category": "Memory Optimized",
    "gpuNum": 0,
    "hideHardwareSpecs": false,
    "memoryGiB": 32,
    "name": "ml.r5.xlarge",
    "vcpuNum": 4
   },
   {
    "_defaultOrder": 41,
    "_isFastLaunch": false,
    "category": "Memory Optimized",
    "gpuNum": 0,
    "hideHardwareSpecs": false,
    "memoryGiB": 64,
    "name": "ml.r5.2xlarge",
    "vcpuNum": 8
   },
   {
    "_defaultOrder": 42,
    "_isFastLaunch": false,
    "category": "Memory Optimized",
    "gpuNum": 0,
    "hideHardwareSpecs": false,
    "memoryGiB": 128,
    "name": "ml.r5.4xlarge",
    "vcpuNum": 16
   },
   {
    "_defaultOrder": 43,
    "_isFastLaunch": false,
    "category": "Memory Optimized",
    "gpuNum": 0,
    "hideHardwareSpecs": false,
    "memoryGiB": 256,
    "name": "ml.r5.8xlarge",
    "vcpuNum": 32
   },
   {
    "_defaultOrder": 44,
    "_isFastLaunch": false,
    "category": "Memory Optimized",
    "gpuNum": 0,
    "hideHardwareSpecs": false,
    "memoryGiB": 384,
    "name": "ml.r5.12xlarge",
    "vcpuNum": 48
   },
   {
    "_defaultOrder": 45,
    "_isFastLaunch": false,
    "category": "Memory Optimized",
    "gpuNum": 0,
    "hideHardwareSpecs": false,
    "memoryGiB": 512,
    "name": "ml.r5.16xlarge",
    "vcpuNum": 64
   },
   {
    "_defaultOrder": 46,
    "_isFastLaunch": false,
    "category": "Memory Optimized",
    "gpuNum": 0,
    "hideHardwareSpecs": false,
    "memoryGiB": 768,
    "name": "ml.r5.24xlarge",
    "vcpuNum": 96
   },
   {
    "_defaultOrder": 47,
    "_isFastLaunch": false,
    "category": "Accelerated computing",
    "gpuNum": 1,
    "hideHardwareSpecs": false,
    "memoryGiB": 16,
    "name": "ml.g5.xlarge",
    "vcpuNum": 4
   },
   {
    "_defaultOrder": 48,
    "_isFastLaunch": false,
    "category": "Accelerated computing",
    "gpuNum": 1,
    "hideHardwareSpecs": false,
    "memoryGiB": 32,
    "name": "ml.g5.2xlarge",
    "vcpuNum": 8
   },
   {
    "_defaultOrder": 49,
    "_isFastLaunch": false,
    "category": "Accelerated computing",
    "gpuNum": 1,
    "hideHardwareSpecs": false,
    "memoryGiB": 64,
    "name": "ml.g5.4xlarge",
    "vcpuNum": 16
   },
   {
    "_defaultOrder": 50,
    "_isFastLaunch": false,
    "category": "Accelerated computing",
    "gpuNum": 1,
    "hideHardwareSpecs": false,
    "memoryGiB": 128,
    "name": "ml.g5.8xlarge",
    "vcpuNum": 32
   },
   {
    "_defaultOrder": 51,
    "_isFastLaunch": false,
    "category": "Accelerated computing",
    "gpuNum": 1,
    "hideHardwareSpecs": false,
    "memoryGiB": 256,
    "name": "ml.g5.16xlarge",
    "vcpuNum": 64
   },
   {
    "_defaultOrder": 52,
    "_isFastLaunch": false,
    "category": "Accelerated computing",
    "gpuNum": 4,
    "hideHardwareSpecs": false,
    "memoryGiB": 192,
    "name": "ml.g5.12xlarge",
    "vcpuNum": 48
   },
   {
    "_defaultOrder": 53,
    "_isFastLaunch": false,
    "category": "Accelerated computing",
    "gpuNum": 4,
    "hideHardwareSpecs": false,
    "memoryGiB": 384,
    "name": "ml.g5.24xlarge",
    "vcpuNum": 96
   },
   {
    "_defaultOrder": 54,
    "_isFastLaunch": false,
    "category": "Accelerated computing",
    "gpuNum": 8,
    "hideHardwareSpecs": false,
    "memoryGiB": 768,
    "name": "ml.g5.48xlarge",
    "vcpuNum": 192
   },
   {
    "_defaultOrder": 55,
    "_isFastLaunch": false,
    "category": "Accelerated computing",
    "gpuNum": 8,
    "hideHardwareSpecs": false,
    "memoryGiB": 1152,
    "name": "ml.p4d.24xlarge",
    "vcpuNum": 96
   },
   {
    "_defaultOrder": 56,
    "_isFastLaunch": false,
    "category": "Accelerated computing",
    "gpuNum": 8,
    "hideHardwareSpecs": false,
    "memoryGiB": 1152,
    "name": "ml.p4de.24xlarge",
    "vcpuNum": 96
   }
  ],
  "instance_type": "ml.t3.medium",
  "kernelspec": {
   "display_name": "Glue PySpark (SparkAnalytics 2.0)",
   "language": "python",
   "name": "conda-env-sm_glue_is-glue_pyspark__SAGEMAKER_INTERNAL__arn:aws:sagemaker:ap-southeast-1:492261229750:image/sagemaker-sparkanalytics-310-v1"
  },
  "language_info": {
   "codemirror_mode": {
    "name": "python",
    "version": 3
   },
   "file_extension": ".py",
   "mimetype": "text/x-python",
   "name": "Python_Glue_Session",
   "pygments_lexer": "python3"
  }
 },
 "nbformat": 4,
 "nbformat_minor": 5
}
